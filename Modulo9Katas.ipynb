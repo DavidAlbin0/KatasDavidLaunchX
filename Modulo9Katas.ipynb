{
 "cells": [
  {
   "cell_type": "markdown",
   "metadata": {},
   "source": [
    "## Ejercicio 1: Trabajar con argumentos en funciones"
   ]
  },
  {
   "cell_type": "code",
   "execution_count": 1,
   "metadata": {},
   "outputs": [],
   "source": [
    "#motores del cohete perron\n",
    "def part_tank(tank1, tank2, tank3):\n",
    "    promedio = (tank3 + tank1 + tank2)/3\n",
    "    print(f\"Tenemos un promedio de {promedio}% de aire en la nave, El aire del tanque 1 se encuentra en {tank1}%, el aire del tanque 2 se encuentra en {tank2}% y el aire del tanque 3 se encuentra en {tank3}\")\n"
   ]
  },
  {
   "cell_type": "code",
   "execution_count": 2,
   "metadata": {},
   "outputs": [
    {
     "name": "stdout",
     "output_type": "stream",
     "text": [
      "Tenemos un promedio de 44.333333333333336% de aire en la nave, El aire del tanque 1 se encuentra en 30%, el aire del tanque 2 se encuentra en 49% y el aire del tanque 3 se encuentra en 54\n",
      "None\n"
     ]
    }
   ],
   "source": [
    "    print(part_tank(30, 49, 54))\n"
   ]
  },
  {
   "cell_type": "code",
   "execution_count": 3,
   "metadata": {},
   "outputs": [
    {
     "data": {
      "text/plain": [
       "85.0"
      ]
     },
     "execution_count": 3,
     "metadata": {},
     "output_type": "execute_result"
    }
   ],
   "source": [
    "def informe(num):\n",
    "    fin = sum(num)\n",
    "    nuevresul = len(num)\n",
    "    return fin/nuevresul\n",
    "\n",
    "informe([77, 92, 86])"
   ]
  },
  {
   "cell_type": "code",
   "execution_count": 1,
   "metadata": {},
   "outputs": [],
   "source": [
    "def part_tank(tank1, tank2, tank3):\n",
    "        print(f\"Tenemos un promedio de {informe}% de aire en la nave, El aire del tanque 1 se encuentra en {tank1}%, el aire del tanque 2 se encuentra en {tank2}% y el aire del tanque 3 se encuentra en {tank3}\")\n",
    "\n",
    "        print(informe(77, 92, 86))\n"
   ]
  },
  {
   "cell_type": "markdown",
   "metadata": {},
   "source": [
    "## Ejercicio 2: Trabajo con argumentos de palabra clave"
   ]
  },
  {
   "cell_type": "code",
   "execution_count": 3,
   "metadata": {},
   "outputs": [],
   "source": [
    "# Función mision\n",
    "def inform(horad, tiempov, destino, ext_tank, int_tank) :\n",
    "    print(f\"\"\":\n",
    "     Hora actual: {horad}AM:\n",
    "     Destino final: {destino}:\n",
    "     Tiempo de vuelo: {tiempov} Horas:\n",
    "     Tanque de combustible exterior: {ext_tank}% \n",
    "     Tanque de combustible interior: {int_tank}%\"\"\")\n"
   ]
  },
  {
   "cell_type": "code",
   "execution_count": 4,
   "metadata": {},
   "outputs": [
    {
     "name": "stdout",
     "output_type": "stream",
     "text": [
      ":\n",
      "     Hora actual: 5AM:\n",
      "     Destino final: 422353:\n",
      "     Tiempo de vuelo: Mx3144 BitPlanet Horas:\n",
      "     Tanque de combustible exterior: 67% \n",
      "     Tanque de combustible interior: 44%\n",
      "None\n"
     ]
    }
   ],
   "source": [
    "#funcion que llama\n",
    "print(inform(5, \"Mx3144 BitPlanet\", 422353, 67, 44))"
   ]
  },
  {
   "cell_type": "code",
   "execution_count": 15,
   "metadata": {},
   "outputs": [],
   "source": [
    "#nueva funcion\n",
    "def inform(destino, *min, **tank_extr):\n",
    "    print(f\"\"\":\n",
    "     Hora actual: {sum(min)}AM:\n",
    "     Destino final: {destino}: \n",
    "     Conbustible restante: {sum(tank_extr)}%\"\"\")\n",
    "\n",
    "    print(inform(5, \"Mx3144 BitPlanet\", 422353, 67, 44))"
   ]
  },
  {
   "cell_type": "code",
   "execution_count": 19,
   "metadata": {},
   "outputs": [],
   "source": [
    "def inform(destino, *min, **tank_extr):\n",
    "    print(f\"\"\":\n",
    "     Hora actual: {sum(min)}AM:\n",
    "     Destino final: {destino}: \n",
    "     Conbustible restante: {sum(tank_extr)}%\"\"\")\n",
    "     \n",
    "    for nt, lt in tank_extr.items():\n",
    "        inform + f\"{nt} tank --> {lt} litros restantes\\n\"\n",
    "        return inform\n",
    "\n",
    "#print(inform(5, \"Mx3144 BitPlanet\", 422353, 67, 44))"
   ]
  }
 ],
 "metadata": {
  "interpreter": {
   "hash": "fedcc50f283406cd0bf20fb7b46a2eb88379f9cca553bcd41f7af8ff024b2204"
  },
  "kernelspec": {
   "display_name": "Python 3.10.2 64-bit (windows store)",
   "language": "python",
   "name": "python3"
  },
  "language_info": {
   "codemirror_mode": {
    "name": "ipython",
    "version": 3
   },
   "file_extension": ".py",
   "mimetype": "text/x-python",
   "name": "python",
   "nbconvert_exporter": "python",
   "pygments_lexer": "ipython3",
   "version": "3.10.2"
  },
  "orig_nbformat": 4
 },
 "nbformat": 4,
 "nbformat_minor": 2
}
